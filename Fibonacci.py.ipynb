{
 "cells": [
  {
   "cell_type": "code",
   "execution_count": 5,
   "metadata": {},
   "outputs": [
    {
     "name": "stdout",
     "output_type": "stream",
     "text": [
      "This program shows the Nth term of the Fibonacci series\n",
      "\n",
      "Choose a value for N: 6\n",
      "Fibonacci term # 6 is: 8\n"
     ]
    }
   ],
   "source": [
    "# Zelle 2003 book, Chapter 6, Exercise 7\n",
    "#\n",
    "# File: FunctionalFibonacci.py\n",
    "# This program calculates the Nth term of the Fibonacci series, given an\n",
    "# input from the user.  It uses a function to get the task done, instead of\n",
    "# making main do everything.\n",
    "\n",
    "def Fibonacci(n):\n",
    "     int (n)\n",
    "     x=0\n",
    "     y=1\n",
    "     for i in range(n):\n",
    "              if i%2==0:\n",
    "                      x=x+y\n",
    "              elif i %2==1:\n",
    "                      y=x+y\n",
    "     if n%2==0:\n",
    "              return x\n",
    "     elif n%2==1:\n",
    "              return y\n",
    "def main():\n",
    "     print (\"This program shows the Nth term of the Fibonacci series\\n\")\n",
    "     n = input(\"Choose a value for N: \")\n",
    "     x = str(n)\n",
    "     FibonacciNumber = int(n)\n",
    "     print (\"Fibonacci term #\", end = ' ' ), print (x, end = ' '), print (\"is:\", end = ' '), print(Fibonacci(FibonacciNumber)) # The end space added is for Python 3.x versions; the original code was written in 2.7\n",
    "\n",
    "main()"
   ]
  },
  {
   "cell_type": "code",
   "execution_count": null,
   "metadata": {},
   "outputs": [],
   "source": []
  }
 ],
 "metadata": {
  "kernelspec": {
   "display_name": "Python 3",
   "language": "python",
   "name": "python3"
  },
  "language_info": {
   "codemirror_mode": {
    "name": "ipython",
    "version": 3
   },
   "file_extension": ".py",
   "mimetype": "text/x-python",
   "name": "python",
   "nbconvert_exporter": "python",
   "pygments_lexer": "ipython3",
   "version": "3.7.6"
  }
 },
 "nbformat": 4,
 "nbformat_minor": 4
}
