{
 "cells": [
  {
   "cell_type": "code",
   "execution_count": 2,
   "metadata": {},
   "outputs": [
    {
     "ename": "SyntaxError",
     "evalue": "positional argument follows keyword argument (<ipython-input-2-3ffc797ce5c9>, line 17)",
     "output_type": "error",
     "traceback": [
      "\u001b[1;36m  File \u001b[1;32m\"<ipython-input-2-3ffc797ce5c9>\"\u001b[1;36m, line \u001b[1;32m17\u001b[0m\n\u001b[1;33m    print (\"The acronym is\", end = ' ', acronym(phrase))\u001b[0m\n\u001b[1;37m                                       ^\u001b[0m\n\u001b[1;31mSyntaxError\u001b[0m\u001b[1;31m:\u001b[0m positional argument follows keyword argument\n"
     ]
    }
   ],
   "source": [
    "# Zelle 2003 book, Chapter 6 Exercise 10\n",
    "#\n",
    "# File: Acronym.py\n",
    "# \n",
    "# This program takes character arguments from the user and creates the acronym from the first letter of each input.\n",
    "\n",
    "import string\n",
    "def acronym(phrase):\n",
    "    components = \"\"\n",
    "    phrase = string.capwords(phrase)\n",
    "    for phrase in phrase.split():\n",
    "           components = components + phrase[0]\n",
    "    return components\n",
    "\n",
    "def main():\n",
    "    phrase = raw_input(\"Enter a phrase: \")\n",
    "    print (\"The acronym is\", end = ' ', acronym(phrase))\n",
    "\n",
    "main()"
   ]
  },
  {
   "cell_type": "code",
   "execution_count": null,
   "metadata": {},
   "outputs": [],
   "source": []
  }
 ],
 "metadata": {
  "kernelspec": {
   "display_name": "Python 3",
   "language": "python",
   "name": "python3"
  },
  "language_info": {
   "codemirror_mode": {
    "name": "ipython",
    "version": 3
   },
   "file_extension": ".py",
   "mimetype": "text/x-python",
   "name": "python",
   "nbconvert_exporter": "python",
   "pygments_lexer": "ipython3",
   "version": "3.7.6"
  }
 },
 "nbformat": 4,
 "nbformat_minor": 4
}
